{
  "nbformat": 4,
  "nbformat_minor": 0,
  "metadata": {
    "colab": {
      "provenance": [],
      "authorship_tag": "ABX9TyNcZGsW+IjutTilXoTJKlqF",
      "include_colab_link": true
    },
    "kernelspec": {
      "name": "python3",
      "display_name": "Python 3"
    },
    "language_info": {
      "name": "python"
    }
  },
  "cells": [
    {
      "cell_type": "markdown",
      "metadata": {
        "id": "view-in-github",
        "colab_type": "text"
      },
      "source": [
        "<a href=\"https://colab.research.google.com/github/Tanaya12-da/Butter-Bot-Explorer/blob/main/AI_32126894.ipynb\" target=\"_parent\"><img src=\"https://colab.research.google.com/assets/colab-badge.svg\" alt=\"Open In Colab\"/></a>"
      ]
    },
    {
      "cell_type": "markdown",
      "source": [
        "1. Importing all the libraries"
      ],
      "metadata": {
        "id": "sMTw2DIfvjci"
      }
    },
    {
      "cell_type": "code",
      "source": [
        "import matplotlib.pyplot as plt\n",
        "from matplotlib.animation import FuncAnimation\n",
        "import copy"
      ],
      "metadata": {
        "id": "dQcAyN5TK5f5"
      },
      "execution_count": null,
      "outputs": []
    },
    {
      "cell_type": "markdown",
      "source": [
        "2. Creating a Table Environment and applying A* search, Deepening Search"
      ],
      "metadata": {
        "id": "sGiPRKZUvrU8"
      }
    },
    {
      "cell_type": "code",
      "source": [
        "import heapq\n",
        "\n",
        "class TableEnvironment:\n",
        "  #defining positions\n",
        "    def __init__(self, matrix):\n",
        "        self.matrix = matrix\n",
        "        self.robot = self.find_symbol('r')\n",
        "        self.customer = self.find_symbol('p')\n",
        "        self.butter = self.find_symbol('b')\n",
        "        self.obstacle_symbol = 'x'\n",
        "\n",
        "    #calculating heuristic\n",
        "    def heuristic(self, node, goal):\n",
        "        return abs(node[0] - goal[0]) + abs(node[1] - goal[1]) #manhattan distance\n",
        "\n",
        "    #check whether the coordinates are present in the range of matrix or not\n",
        "    def is_valid(self, x, y):\n",
        "        rows, cols = len(self.matrix), len(self.matrix[0])\n",
        "        return 0 <= x < rows and 0 <= y < cols and self.matrix[x][y] != self.obstacle_symbol\n",
        "\n",
        "    #valid neighbours near the given coordinates\n",
        "    def neighbors(self, x, y):\n",
        "        possible_moves = [(0, 1), (0, -1), (1, 0), (-1, 0)]  # Possible movements: up, down, left, right\n",
        "        neighbors = [(x + dx, y + dy) for dx, dy in possible_moves]\n",
        "        return [(nx, ny) for nx, ny in neighbors if self.is_valid(nx, ny)]\n",
        "\n",
        "\n",
        "    #finding the r,p,b in the matrix\n",
        "    def find_symbol(self, symbol):\n",
        "        for i, row in enumerate(self.matrix):\n",
        "            for j, cell in enumerate(row):\n",
        "                if symbol in cell:\n",
        "                    return i, j\n",
        "        return None\n",
        "\n",
        "    ##Implementing the A* search\n",
        "    def search(self, start, goal):\n",
        "        open_set = [(0, start)]  # Priority queue (heap) to store nodes to be explored\n",
        "        came_from = {}  # Dictionary to store the parent of each node\n",
        "        g_score = {start: 0}  # Cost from start to each node\n",
        "\n",
        "        while open_set:\n",
        "            current_cost, current_node = heapq.heappop(open_set)\n",
        "\n",
        "            if current_node == goal:\n",
        "                path = [current_node]\n",
        "                while current_node in came_from:\n",
        "                    current_node = came_from[current_node]\n",
        "                    path.append(current_node)\n",
        "                return path[::-1]\n",
        "\n",
        "            for neighbor in self.neighbors(*current_node):\n",
        "                tentative_g_score = g_score[current_node] + 1\n",
        "\n",
        "                if neighbor not in g_score or tentative_g_score < g_score[neighbor]:\n",
        "                    g_score[neighbor] = tentative_g_score\n",
        "                    f_score = tentative_g_score + self.heuristic(neighbor, goal)\n",
        "                    heapq.heappush(open_set, (f_score, neighbor))\n",
        "                    came_from[neighbor] = current_node\n",
        "\n",
        "        return None  # No path found\n",
        "\n",
        "    # Implementing Iterative Deepening Search\n",
        "    def iterative_deepening_search(self, start, goal, max_depth):\n",
        "        for depth in range(1, max_depth + 1):\n",
        "            result = self.depth_limited_search(start, goal, depth)\n",
        "            if result:\n",
        "                return result\n",
        "        return None\n",
        "\n",
        "    def depth_limited_search(self, start, goal, max_depth):\n",
        "        open_set = [(0, start)]  # Priority queue (heap) to store nodes to be explored\n",
        "        came_from = {}  # Dictionary to store the parent of each node\n",
        "        g_score = {start: 0}  # Cost from start to each node\n",
        "\n",
        "        while open_set:\n",
        "            current_cost, current_node = heapq.heappop(open_set)\n",
        "\n",
        "            if current_node == goal:\n",
        "                path = [current_node]\n",
        "                while current_node in came_from:\n",
        "                    current_node = came_from[current_node]\n",
        "                    path.append(current_node)\n",
        "                return path[::-1]\n",
        "\n",
        "            if g_score[current_node] >= max_depth:\n",
        "                continue\n",
        "\n",
        "            for neighbor in self.neighbors(*current_node):\n",
        "                tentative_g_score = g_score[current_node] + 1\n",
        "\n",
        "                if neighbor not in g_score or tentative_g_score < g_score[neighbor]:\n",
        "                    g_score[neighbor] = tentative_g_score\n",
        "                    f_score = tentative_g_score + self.heuristic(neighbor, goal)\n",
        "                    heapq.heappush(open_set, (f_score, neighbor))\n",
        "                    came_from[neighbor] = current_node\n",
        "\n",
        "        return None  # No path found\n",
        "\n",
        "\n",
        "\n",
        "\n",
        "\n",
        "# def iterative_deepening_search(initial_state, max_depth=100):\n",
        "#       for depth in range(max_depth):\n",
        "#         result = depth_limited_search(initial_state, depth)\n",
        "#         if result is not None:\n",
        "#             return result\n",
        "#             return None\n",
        "\n",
        "# def depth_limited_search(state, depth_limit):\n",
        "#     return recursive_dls(state, depth_limit)\n",
        "\n",
        "\n",
        "# def recursive_dls(state, depth_limit):\n",
        "#     if state == goal:\n",
        "#         return [state]\n",
        "\n",
        "#     if depth_limit == 0:\n",
        "#         return None\n",
        "\n",
        "#     for neighbor in state.get_neighbors():\n",
        "#         result = recursive_dls(neighbor, depth_limit - 1)\n",
        "#         if result is not None:\n",
        "#             return [state] + result\n",
        "\n",
        "#     return None\n",
        "\n",
        "\n",
        "# def reconstruct_path(final_state):\n",
        "#     path = [final_state]\n",
        "#     current_state = final_state\n",
        "\n",
        "#     while current_state != start:\n",
        "#         for neighbor in current_state.get_neighbors():\n",
        "#             if neighbor == path[-1]:\n",
        "#                 path.append(neighbor)\n",
        "#                 current_state = neighbor\n",
        "#                 break\n",
        "\n",
        "    # return path[::-1]"
      ],
      "metadata": {
        "id": "3XzhKyFYvdjj"
      },
      "execution_count": null,
      "outputs": []
    },
    {
      "cell_type": "markdown",
      "source": [
        "3. Input to the class"
      ],
      "metadata": {
        "id": "PPtreg_2e27l"
      }
    },
    {
      "cell_type": "code",
      "source": [
        "matrix_input = [\n",
        "    ['2', '2', '2', '2', '2'],\n",
        "    ['2r', '1', '1', '1', '2'],\n",
        "    ['2', '1', '1b', '1', '2'],\n",
        "    ['2', '1', 'x', '1', '2'],\n",
        "    ['2', '2', '2p', '2', '2']\n",
        "]\n",
        "\n",
        "table_env = TableEnvironment(matrix_input)\n",
        "path_to_butter = table_env.search(table_env.robot, table_env.butter)\n",
        "\n",
        "if path_to_butter:\n",
        "    print(\"Path to Butter:\", path_to_butter)\n",
        "    path_to_customer = table_env.search(table_env.butter, table_env.customer)\n",
        "    if path_to_customer:\n",
        "        print(\"Path to Customer:\", path_to_customer)\n",
        "        final_path = path_to_butter + path_to_customer[1:]\n",
        "        print(\"Final Path:\", final_path)\n",
        "    else:\n",
        "        print(\"No path to customer.\")\n",
        "else:\n",
        "    print(\"No path to butter.\")\n"
      ],
      "metadata": {
        "colab": {
          "base_uri": "https://localhost:8080/"
        },
        "id": "eaS9OSt9diyd",
        "outputId": "1cdf1835-9151-4d3e-bb3c-763bf3849119"
      },
      "execution_count": null,
      "outputs": [
        {
          "output_type": "stream",
          "name": "stdout",
          "text": [
            "Path to Butter: [(1, 0), (1, 1), (1, 2), (2, 2)]\n",
            "Path to Customer: [(2, 2), (2, 1), (3, 1), (4, 1), (4, 2)]\n",
            "Final Path: [(1, 0), (1, 1), (1, 2), (2, 2), (2, 1), (3, 1), (4, 1), (4, 2)]\n"
          ]
        }
      ]
    },
    {
      "cell_type": "markdown",
      "source": [
        "4. Evaluating the A* search"
      ],
      "metadata": {
        "id": "X-mkiv2x0IaG"
      }
    },
    {
      "cell_type": "code",
      "source": [
        "def a_star_search_evaluation(path_found, optimal_path):\n",
        "    \"\"\"\n",
        "    Evaluate the accuracy of the A* Search algorithm.\n",
        "\n",
        "    Parameters:\n",
        "    - path_found: The path found by the A* Search algorithm.\n",
        "    - optimal_path: The optimal path (ground truth).\n",
        "\n",
        "    Returns:\n",
        "    - completeness: 1.0 if path_found is equal to optimal_path, else 0.0.\n",
        "    \"\"\"\n",
        "    completeness = 1.0 if path_found == optimal_path else 0.0\n",
        "    return completeness\n",
        "\n",
        "# Example usage:\n",
        "optimal_path = [(0, 0), (1, 0), (2, 0), (3, 0)]  # Replace with the actual optimal path\n",
        "path_found_by_a_star = [(1, 0), (1, 1), (1, 2), (2, 2)]  # Replace with the path found by A* Search\n",
        "\n",
        "completeness_score = a_star_search_evaluation(path_found_by_a_star, optimal_path)\n",
        "print(f\"Completeness Score: {completeness_score}\")\n"
      ],
      "metadata": {
        "colab": {
          "base_uri": "https://localhost:8080/"
        },
        "id": "4gHdQ1Ww0BRg",
        "outputId": "06764835-d60b-4c52-f5cf-5a30f30ad5b2"
      },
      "execution_count": null,
      "outputs": [
        {
          "output_type": "stream",
          "name": "stdout",
          "text": [
            "Completeness Score: 0.0\n"
          ]
        }
      ]
    },
    {
      "cell_type": "markdown",
      "source": [
        "5. Visualizing the path on the matrix"
      ],
      "metadata": {
        "id": "6-l4fR31wBWj"
      }
    },
    {
      "cell_type": "code",
      "source": [
        "import matplotlib.pyplot as plt\n",
        "import numpy as np\n",
        "\n",
        "# Create a 6x6 matrix (corrected size)\n",
        "matrix = np.zeros((6, 6))\n",
        "\n",
        "# Set positions of robot, butter, obstacle, and customer\n",
        "robot_pos = (2, 1)\n",
        "butter_pos = (3, 3)\n",
        "obstacle_pos = (4, 3)\n",
        "customer_pos = (4, 3)  # Corrected position\n",
        "\n",
        "# Assign values to matrix positions\n",
        "matrix[robot_pos] = 1  # 1 represents the robot\n",
        "matrix[butter_pos] = 2  # 2 represents the butter\n",
        "matrix[obstacle_pos] = 3  # 3 represents the obstacle\n",
        "matrix[customer_pos] = 4  # 4 represents the customer\n",
        "\n",
        "# Paths\n",
        "path_to_butter = [(1, 0), (1, 1), (1, 2), (2, 2)]\n",
        "path_to_customer = [(2, 2), (2, 1), (3, 1), (4, 1), (4, 2)]\n",
        "final_path = path_to_butter + path_to_customer\n",
        "\n",
        "# Plot the matrix\n",
        "fig, ax = plt.subplots()\n",
        "ax.imshow(np.ones_like(matrix), cmap=plt.get_cmap('gray'), interpolation='nearest', aspect='equal')\n",
        "\n",
        "# Add colored rectangles for robot, butter, obstacle, and customer\n",
        "for i in range(matrix.shape[0]):\n",
        "    for j in range(matrix.shape[1]):\n",
        "        if matrix[i, j] == 1:  # Robot\n",
        "            color = 'blue'\n",
        "        elif matrix[i, j] == 2:  # Butter\n",
        "            color = 'yellow'\n",
        "        elif matrix[i, j] == 3:  # Obstacle\n",
        "            color = 'white'\n",
        "        elif matrix[i, j] == 4:  # Customer\n",
        "            color = 'green'\n",
        "        else:\n",
        "            continue\n",
        "\n",
        "        rect = plt.Rectangle((j, i), 1, 1, facecolor=color, edgecolor='black')\n",
        "        ax.add_patch(rect)\n",
        "\n",
        "# Add gridlines\n",
        "ax.set_xticks(np.arange(matrix.shape[1]), minor=False)\n",
        "ax.set_yticks(np.arange(matrix.shape[0]), minor=False)\n",
        "ax.grid(which='both', color='white', linestyle='-', linewidth=1)\n",
        "\n",
        "# Add numbers on the matrix axis\n",
        "ax.set_xticklabels(np.arange(matrix.shape[1]) + 1)  # Add 1 to start the numbering from 1\n",
        "ax.set_yticklabels(np.arange(matrix.shape[0]) + 1)  # Add 1 to start the numbering from 1\n",
        "\n",
        "# Plot the paths\n",
        "for path, color in zip([final_path], ['purple']):\n",
        "    for position in path:\n",
        "        rect = plt.Rectangle((position[1], position[0]), 1, 1, facecolor=color, edgecolor='black', alpha=0.7)\n",
        "        ax.add_patch(rect)\n",
        "plt.title(\"Shortest path using A* search\")\n",
        "# Show the plot\n",
        "plt.show()\n"
      ],
      "metadata": {
        "colab": {
          "base_uri": "https://localhost:8080/",
          "height": 452
        },
        "id": "LBMpJOPM_Z8b",
        "outputId": "00d645b6-92c3-47e7-c8fc-d667f0675e3e"
      },
      "execution_count": null,
      "outputs": [
        {
          "output_type": "display_data",
          "data": {
            "text/plain": [
              "<Figure size 640x480 with 1 Axes>"
            ],
            "image/png": "[encoded data removed]"
          },
          "metadata": {}
        }
      ]
    },
    {
      "cell_type": "markdown",
      "source": [
        "6. Applying Iterative deepening search algorithm on the input matrix"
      ],
      "metadata": {
        "id": "Ld_UYnexMSrg"
      }
    },
    {
      "cell_type": "code",
      "source": [
        "# Assuming you have an instance of TableEnvironment called table_env\n",
        "start = table_env.robot\n",
        "goal = table_env.butter\n",
        "max_depth = 10  # Adjust the maximum depth as needed\n",
        "\n",
        "result = table_env.iterative_deepening_search(start, goal, max_depth)\n",
        "\n",
        "if result:\n",
        "    print(\"Path found:\", result)\n",
        "else:\n",
        "    print(\"No path found within the specified depth limit.\")\n"
      ],
      "metadata": {
        "id": "JzmRDEuWMQfa",
        "colab": {
          "base_uri": "https://localhost:8080/"
        },
        "outputId": "37de3c90-e75c-4022-9317-2e6943ae577d"
      },
      "execution_count": null,
      "outputs": [
        {
          "output_type": "stream",
          "name": "stdout",
          "text": [
            "Path found: [(1, 0), (1, 1), (1, 2), (2, 2)]\n"
          ]
        }
      ]
    },
    {
      "cell_type": "markdown",
      "source": [
        "7. Visualisation"
      ],
      "metadata": {
        "id": "NOEKII5rynSz"
      }
    },
    {
      "cell_type": "code",
      "source": [
        "import matplotlib.pyplot as plt\n",
        "import numpy as np\n",
        "\n",
        "# Create a 6x6 matrix (corrected size)\n",
        "matrix = np.zeros((6, 6))\n",
        "\n",
        "# Set positions of robot, butter, obstacle, and customer\n",
        "robot_pos = (2, 1)\n",
        "butter_pos = (3, 3)\n",
        "obstacle_pos = (4, 3)\n",
        "customer_pos = (4, 3)  # Corrected position\n",
        "\n",
        "# Assign values to matrix positions\n",
        "matrix[robot_pos] = 1  # 1 represents the robot\n",
        "matrix[butter_pos] = 2  # 2 represents the butter\n",
        "matrix[obstacle_pos] = 3  # 3 represents the obstacle\n",
        "matrix[customer_pos] = 4  # 4 represents the customer\n",
        "\n",
        "# Path\n",
        "path_found = [(1, 0), (1, 1), (1, 2), (2, 2)]\n",
        "\n",
        "# Plot the matrix\n",
        "fig, ax = plt.subplots()\n",
        "ax.imshow(np.ones_like(matrix), cmap=plt.get_cmap('gray'), interpolation='nearest', aspect='equal')\n",
        "\n",
        "# Add colored rectangles for robot, butter, obstacle, and customer\n",
        "for i in range(matrix.shape[0]):\n",
        "    for j in range(matrix.shape[1]):\n",
        "        if matrix[i, j] == 1:  # Robot\n",
        "            color = 'blue'\n",
        "        elif matrix[i, j] == 2:  # Butter\n",
        "            color = 'yellow'\n",
        "        elif matrix[i, j] == 3:  # Obstacle\n",
        "            color = 'white'\n",
        "        elif matrix[i, j] == 4:  # Customer\n",
        "            color = 'green'\n",
        "        else:\n",
        "            continue\n",
        "\n",
        "        rect = plt.Rectangle((j, i), 1, 1, facecolor=color, edgecolor='black')\n",
        "        ax.add_patch(rect)\n",
        "\n",
        "# Add gridlines\n",
        "ax.set_xticks(np.arange(matrix.shape[1]), minor=False)\n",
        "ax.set_yticks(np.arange(matrix.shape[0]), minor=False)\n",
        "ax.grid(which='both', color='white', linestyle='-', linewidth=1)\n",
        "\n",
        "# Add numbers on the matrix axis\n",
        "ax.set_xticklabels(np.arange(matrix.shape[1]) + 1)  # Add 1 to start the numbering from 1\n",
        "ax.set_yticklabels(np.arange(matrix.shape[0]) + 1)  # Add 1 to start the numbering from 1\n",
        "\n",
        "# Plot the found path\n",
        "for position in path_found:\n",
        "    rect = plt.Rectangle((position[1], position[0]), 1, 1, facecolor='orange', edgecolor='black', alpha=0.7)\n",
        "    ax.add_patch(rect)\n",
        "plt.title(\"Shortest Path using Iterative Deepening\")\n",
        "# Show the plot\n",
        "plt.show()\n"
      ],
      "metadata": {
        "colab": {
          "base_uri": "https://localhost:8080/",
          "height": 452
        },
        "id": "dz7iNOSzA6wJ",
        "outputId": "182062d1-a88a-46b2-dd75-5886af8c5cdc"
      },
      "execution_count": null,
      "outputs": [
        {
          "output_type": "display_data",
          "data": {
            "text/plain": [
              "<Figure size 640x480 with 1 Axes>"
            ],
            "image/png": "[encoded data removed]"
          },
          "metadata": {}
        }
      ]
    }
  ]
}